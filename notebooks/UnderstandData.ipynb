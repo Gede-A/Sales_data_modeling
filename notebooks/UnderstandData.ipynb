{
 "cells": [
  {
   "cell_type": "code",
   "execution_count": 66,
   "id": "c9a136a3-10d2-4542-b480-07362f66e395",
   "metadata": {},
   "outputs": [
    {
     "name": "stdout",
     "output_type": "stream",
     "text": [
      "This is train data dicribution information\n",
      "  Store DayOfWeek        Date  Sales Customers Open Promo StateHoliday  \\\n",
      "0     1         5  2015-07-31   5263       555    1     1            0   \n",
      "1     2         5  2015-07-31   6064       625    1     1            0   \n",
      "2     3         5  2015-07-31   8314       821    1     1            0   \n",
      "3     4         5  2015-07-31  13995      1498    1     1            0   \n",
      "4     5         5  2015-07-31   4822       559    1     1            0   \n",
      "5     6         5  2015-07-31   5651       589    1     1            0   \n",
      "6     7         5  2015-07-31  15344      1414    1     1            0   \n",
      "7     8         5  2015-07-31   8492       833    1     1            0   \n",
      "8     9         5  2015-07-31   8565       687    1     1            0   \n",
      "9    10         5  2015-07-31   7185       681    1     1            0   \n",
      "\n",
      "  SchoolHoliday  \n",
      "0             1  \n",
      "1             1  \n",
      "2             1  \n",
      "3             1  \n",
      "4             1  \n",
      "5             1  \n",
      "6             1  \n",
      "7             1  \n",
      "8             1  \n",
      "9             1  \n",
      "This is test data dicribution information\n",
      "   Id  Store  DayOfWeek        Date  Open  Promo StateHoliday  SchoolHoliday\n",
      "0   1      1          4  2015-09-17   1.0      1            0              0\n",
      "1   2      3          4  2015-09-17   1.0      1            0              0\n",
      "2   3      7          4  2015-09-17   1.0      1            0              0\n",
      "3   4      8          4  2015-09-17   1.0      1            0              0\n",
      "4   5      9          4  2015-09-17   1.0      1            0              0\n",
      "5   6     10          4  2015-09-17   1.0      1            0              0\n",
      "6   7     11          4  2015-09-17   1.0      1            0              0\n",
      "7   8     12          4  2015-09-17   1.0      1            0              0\n",
      "8   9     13          4  2015-09-17   1.0      1            0              0\n",
      "9  10     14          4  2015-09-17   1.0      1            0              0\n",
      "This is store data dicribution information\n",
      "  Store StoreType Assortment CompetitionDistance CompetitionOpenSinceMonth  \\\n",
      "0     1         c          a                1270                         9   \n",
      "1     2         a          a                 570                        11   \n",
      "2     3         a          a               14130                        12   \n",
      "3     4         c          c                 620                         9   \n",
      "4     5         a          a               29910                         4   \n",
      "5     6         a          a                 310                        12   \n",
      "6     7         a          c               24000                         4   \n",
      "7     8         a          a                7520                        10   \n",
      "8     9         a          c                2030                         8   \n",
      "9    10         a          a                3160                         9   \n",
      "\n",
      "  CompetitionOpenSinceYear Promo2 Promo2SinceWeek Promo2SinceYear  \\\n",
      "0                     2008      0             NaN             NaN   \n",
      "1                     2007      1              13            2010   \n",
      "2                     2006      1              14            2011   \n",
      "3                     2009      0             NaN             NaN   \n",
      "4                     2015      0             NaN             NaN   \n",
      "5                     2013      0             NaN             NaN   \n",
      "6                     2013      0             NaN             NaN   \n",
      "7                     2014      0             NaN             NaN   \n",
      "8                     2000      0             NaN             NaN   \n",
      "9                     2009      0             NaN             NaN   \n",
      "\n",
      "     PromoInterval  \n",
      "0              NaN  \n",
      "1  Jan,Apr,Jul,Oct  \n",
      "2  Jan,Apr,Jul,Oct  \n",
      "3              NaN  \n",
      "4              NaN  \n",
      "5              NaN  \n",
      "6              NaN  \n",
      "7              NaN  \n",
      "8              NaN  \n",
      "9              NaN  \n",
      "Index(['Store', 'DayOfWeek', 'Date', 'Sales', 'Customers', 'Open', 'Promo',\n",
      "       'StateHoliday', 'SchoolHoliday'],\n",
      "      dtype='object')\n"
     ]
    }
   ],
   "source": [
    "import pandas as pd\n",
    "#Train data information\n",
    "train_data = pd.read_csv('../train.csv', dtype='object')\n",
    "df_train = pd.DataFrame(train_data)\n",
    "print('This is train data dicribution information')\n",
    "print(df_train.head(10))\n",
    "\n",
    "#test data information\n",
    "\n",
    "test_data = pd.read_csv('../test.csv')\n",
    "df_test = pd.DataFrame(test_data)\n",
    "print('This is test data dicribution information')\n",
    "print(df_test.head(10))\n",
    "\n",
    "#Store data information\n",
    "\n",
    "store_data = pd.read_csv('../store.csv', dtype='object')\n",
    "df_store = pd.DataFrame(store_data)\n",
    "print('This is store data dicribution information')\n",
    "print(df_store.head(10))\n",
    "print(df_train.columns)\n"
   ]
  },
  {
   "cell_type": "code",
   "execution_count": 2,
   "id": "5eacea1b-643d-44e5-95b8-37c9924b86da",
   "metadata": {},
   "outputs": [
    {
     "name": "stdout",
     "output_type": "stream",
     "text": [
      "Check if there is null values\n",
      "Check if there are null values in the training data:\n",
      "Store            0\n",
      "DayOfWeek        0\n",
      "Date             0\n",
      "Sales            0\n",
      "Customers        0\n",
      "Open             0\n",
      "Promo            0\n",
      "StateHoliday     0\n",
      "SchoolHoliday    0\n",
      "dtype: int64\n",
      "Check if there are null values in the test data:\n",
      "Id                0\n",
      "Store             0\n",
      "DayOfWeek         0\n",
      "Date              0\n",
      "Open             11\n",
      "Promo             0\n",
      "StateHoliday      0\n",
      "SchoolHoliday     0\n",
      "dtype: int64\n",
      "Check if there are null values in the store data:\n",
      "Store                          0\n",
      "StoreType                      0\n",
      "Assortment                     0\n",
      "CompetitionDistance            3\n",
      "CompetitionOpenSinceMonth    354\n",
      "CompetitionOpenSinceYear     354\n",
      "Promo2                         0\n",
      "Promo2SinceWeek              544\n",
      "Promo2SinceYear              544\n",
      "PromoInterval                544\n",
      "dtype: int64\n"
     ]
    }
   ],
   "source": [
    "print('Check if there is null values')\n",
    "\n",
    "import pandas as pd\n",
    "\n",
    "# Assuming df_train, df_test, and df_store are already defined DataFrames\n",
    "# Otherwise, you need to read them first using pd.read_csv\n",
    "\n",
    "print('Check if there are null values in the training data:')\n",
    "print(df_train.isnull().sum())\n",
    "\n",
    "print('Check if there are null values in the test data:')\n",
    "print(df_test.isnull().sum())\n",
    "\n",
    "print('Check if there are null values in the store data:')\n",
    "print(df_store.isnull().sum())\n",
    "\n"
   ]
  },
  {
   "cell_type": "code",
   "execution_count": 59,
   "id": "465b270b-d696-46a6-b0ad-f2d0ae28cf34",
   "metadata": {},
   "outputs": [
    {
     "name": "stdout",
     "output_type": "stream",
     "text": [
      "Distribution of training data set\n"
     ]
    },
    {
     "name": "stderr",
     "output_type": "stream",
     "text": [
      "C:\\Users\\User\\AppData\\Local\\Temp\\ipykernel_8488\\425591342.py:3: FutureWarning: errors='ignore' is deprecated and will raise in a future version. Use to_numeric without passing `errors` and catch exceptions explicitly instead\n",
      "  df_train[col] = pd.to_numeric(df_train[col], errors='ignore')\n"
     ]
    },
    {
     "name": "stdout",
     "output_type": "stream",
     "text": [
      "mean of Store column: 558.4297268309659\n",
      "std of Store column: 321.9086511434535\n",
      "skew of Store column: -0.0009548799809840561\n",
      "mean of DayOfWeek column: 3.998340557348588\n",
      "std of DayOfWeek column: 1.997390964940531\n",
      "skew of DayOfWeek column: 0.0015928228042007859\n",
      "mean of Date column: 1.3971798428460618e+18\n",
      "std of Date column: 2.3712834841054444e+16\n",
      "skew of Date column: 0.049882091793195665\n",
      "mean of Sales column: 5773.818972305593\n",
      "std of Sales column: 3849.92617523476\n",
      "skew of Sales column: 0.6414596158103787\n",
      "mean of Customers column: 633.1459464082602\n",
      "std of Customers column: 464.4117338866325\n",
      "skew of Customers column: 1.5986502899508919\n",
      "mean of Open column: 0.8301066939045958\n",
      "std of Open column: 0.3755392246931948\n",
      "skew of Open column: -1.7580445463163024\n",
      "mean of Promo column: 0.3815145166824124\n",
      "std of Promo column: 0.4857586048774201\n",
      "skew of Promo column: 0.4878378482245105\n",
      "mean of SchoolHoliday column: 0.17864666946517382\n",
      "std of SchoolHoliday column: 0.3830563681809262\n",
      "skew of SchoolHoliday column: 1.6778416393157332\n",
      "mean of Lag_Sales column: 5773.858705547177\n",
      "std of Lag_Sales column: 3849.896380681969\n",
      "skew of Lag_Sales column: 0.6414667599461228\n",
      "mean of Lead_Sales column: 5773.800257962528\n",
      "std of Lead_Sales column: 3849.904866729007\n",
      "skew of Lead_Sales column: 0.6414599105641643\n",
      "mean of Weekend column: 0.0\n",
      "std of Weekend column: 0.0\n",
      "skew of Weekend column: 0.0\n",
      "Frequency of the column StateHoliday:\n",
      "StateHoliday\n",
      "0    986159\n",
      "a     20260\n",
      "b      6690\n",
      "c      4100\n",
      "Name: count, dtype: int64\n",
      "\n"
     ]
    }
   ],
   "source": [
    "print('Distribution of training data set')\n",
    "for col in df_train.columns:\n",
    "    df_train[col] = pd.to_numeric(df_train[col], errors='ignore')\n",
    "\n",
    "# Separate numerical and categorical columns\n",
    "numerical_columns = df_train.select_dtypes(include='number').columns\n",
    "categorical_columns = df_train.select_dtypes(exclude='number').columns\n",
    "\n",
    "for column in numerical_columns:\n",
    "    df_train[column] = df_train[column].fillna(df_train[column].mean())\n",
    "    print(f'mean of {column} column: {df_train[column].mean()}')\n",
    "    print(f'std of {column} column: {df_train[column].std()}')\n",
    "    print(f'skew of {column} column: {df_train[column].skew()}')\n",
    "\n",
    "for category in categorical_columns:\n",
    "    if not df_train[category].isnull().all():  # Check if not all values are NaN\n",
    "        df_train[category] = df_train[category].ffill()\n",
    "        frequency_counts = df_train[category].value_counts()\n",
    "        if not frequency_counts.empty:\n",
    "            print(f'Frequency of the column {category}:\\n{frequency_counts}\\n')\n",
    "        else:\n",
    "            print(f'Column {category} has no valid values after forward filling.\\n')\n",
    "    else:\n",
    "        print(f'Column {category} is entirely NaN.\\n')\n",
    "\n",
    "\n",
    "    "
   ]
  },
  {
   "cell_type": "code",
   "execution_count": 3,
   "id": "e88844b9-9569-472c-86dc-31389dbee40c",
   "metadata": {},
   "outputs": [
    {
     "name": "stdout",
     "output_type": "stream",
     "text": [
      "Distribution of test data set\n",
      "mean of Id column: 20544.5\n",
      "std of Id column: 11861.228266920758\n",
      "skew of Id column: 0.0\n",
      "mean of Store column: 555.8995327102804\n",
      "std of Store column: 320.27449594179905\n",
      "skew of Store column: 0.010899089660083232\n",
      "mean of DayOfWeek column: 3.9791666666666665\n",
      "std of DayOfWeek column: 2.0154812917056164\n",
      "skew of DayOfWeek column: 0.02846777394230424\n",
      "mean of Open column: 0.8543223701828273\n",
      "std of Open column: 0.3527398010219591\n",
      "skew of Open column: -2.0090708051424606\n",
      "mean of Promo column: 0.3958333333333333\n",
      "std of Promo column: 0.48903489253273635\n",
      "skew of Promo column: 0.426029876076697\n",
      "mean of SchoolHoliday column: 0.4434871495327103\n",
      "std of SchoolHoliday column: 0.49680207794600667\n",
      "skew of SchoolHoliday column: 0.22751757261188799\n",
      "Frequency of the column Date:\n",
      "Date\n",
      "2015-09-17    856\n",
      "2015-09-16    856\n",
      "2015-09-15    856\n",
      "2015-09-14    856\n",
      "2015-09-13    856\n",
      "2015-09-12    856\n",
      "2015-09-11    856\n",
      "2015-09-10    856\n",
      "2015-09-09    856\n",
      "2015-09-08    856\n",
      "2015-09-07    856\n",
      "2015-09-06    856\n",
      "2015-09-05    856\n",
      "2015-09-04    856\n",
      "2015-09-03    856\n",
      "2015-09-02    856\n",
      "2015-09-01    856\n",
      "2015-08-31    856\n",
      "2015-08-30    856\n",
      "2015-08-29    856\n",
      "2015-08-28    856\n",
      "2015-08-27    856\n",
      "2015-08-26    856\n",
      "2015-08-25    856\n",
      "2015-08-24    856\n",
      "2015-08-23    856\n",
      "2015-08-22    856\n",
      "2015-08-21    856\n",
      "2015-08-20    856\n",
      "2015-08-19    856\n",
      "2015-08-18    856\n",
      "2015-08-17    856\n",
      "2015-08-16    856\n",
      "2015-08-15    856\n",
      "2015-08-14    856\n",
      "2015-08-13    856\n",
      "2015-08-12    856\n",
      "2015-08-11    856\n",
      "2015-08-10    856\n",
      "2015-08-09    856\n",
      "2015-08-08    856\n",
      "2015-08-07    856\n",
      "2015-08-06    856\n",
      "2015-08-05    856\n",
      "2015-08-04    856\n",
      "2015-08-03    856\n",
      "2015-08-02    856\n",
      "2015-08-01    856\n",
      "Name: count, dtype: int64\n",
      "\n",
      "Frequency of the column StateHoliday:\n",
      "StateHoliday\n",
      "0    40908\n",
      "a      180\n",
      "Name: count, dtype: int64\n",
      "\n"
     ]
    },
    {
     "name": "stderr",
     "output_type": "stream",
     "text": [
      "C:\\Users\\User\\AppData\\Local\\Temp\\ipykernel_13716\\1403199766.py:3: FutureWarning: errors='ignore' is deprecated and will raise in a future version. Use to_numeric without passing `errors` and catch exceptions explicitly instead\n",
      "  df_test[col] = pd.to_numeric(df_test[col], errors='ignore')\n"
     ]
    }
   ],
   "source": [
    "print('Distribution of test data set')\n",
    "for col in df_test.columns:\n",
    "    df_test[col] = pd.to_numeric(df_test[col], errors='ignore')\n",
    "\n",
    "# Separate numerical and categorical columns\n",
    "numerical_columns = df_test.select_dtypes(include='number').columns\n",
    "categorical_columns = df_test.select_dtypes(exclude='number').columns\n",
    "\n",
    "for column in numerical_columns:\n",
    "    df_test[column] = df_test[column].fillna(df_test[column].mean())\n",
    "    print(f'mean of {column} column: {df_test[column].mean()}')\n",
    "    print(f'std of {column} column: {df_test[column].std()}')\n",
    "    print(f'skew of {column} column: {df_test[column].skew()}')\n",
    "\n",
    "for category in categorical_columns:\n",
    "    if not df_test[category].isnull().all():  # Check if not all values are NaN\n",
    "        df_test[category] = df_test[category].ffill()\n",
    "        frequency_counts = df_test[category].value_counts()\n",
    "        if not frequency_counts.empty:\n",
    "            print(f'Frequency of the column {category}:\\n{frequency_counts}\\n')\n",
    "        else:\n",
    "            print(f'Column {category} has no valid values after forward filling.\\n')\n",
    "    else:\n",
    "        print(f'Column {category} is entirely NaN.\\n')\n"
   ]
  },
  {
   "cell_type": "code",
   "execution_count": 50,
   "id": "9aadabad-f974-4fe8-b8fe-a424a4f5e2c5",
   "metadata": {},
   "outputs": [
    {
     "name": "stdout",
     "output_type": "stream",
     "text": [
      "avarage sales during, before seven days and after seven days of holiday\n"
     ]
    },
    {
     "data": {
      "image/png": "[encoded data removed]",
      "text/plain": [
       "<Figure size 1500x800 with 3 Axes>"
      ]
     },
     "metadata": {},
     "output_type": "display_data"
    },
    {
     "name": "stdout",
     "output_type": "stream",
     "text": [
      "Empty DataFrame\n",
      "Columns: [Date, Sales]\n",
      "Index: []\n",
      "Empty DataFrame\n",
      "Columns: [Date, Lag_Sales]\n",
      "Index: []\n",
      "Empty DataFrame\n",
      "Columns: [Date, Lead_Sales]\n",
      "Index: []\n"
     ]
    }
   ],
   "source": [
    "import pandas as pd\n",
    "import matplotlib.pyplot as plt\n",
    "import seaborn as sns\n",
    "\n",
    "print('avarage sales during, before seven days and after seven days of holiday')\n",
    "\n",
    "# Ensure the Sales column is numeric, converting invalid entries to NaN\n",
    "df_train['Sales'] = pd.to_numeric(df_train['Sales'], errors='coerce')\n",
    "\n",
    "# Optionally, drop rows with NaN in the 'Sales' column, or fill them\n",
    "df_train.dropna(subset=['Sales'], inplace=True)  # or df_train['Sales'].fillna(0, inplace=True)\n",
    "\n",
    "# Create the lag and lead columns\n",
    "df_train['Lag_Sales'] = df_train['Sales'].shift(7)  # Sales 7 days before\n",
    "df_train['Lead_Sales'] = df_train['Sales'].shift(-7)  # Sales 7 days after\n",
    "\n",
    "# Average sales during holidays\n",
    "holiday_sales = df_train[df_train['SchoolHoliday'] == 1].groupby('Date')['Sales'].mean().reset_index()\n",
    "\n",
    "# Average sales 7 days before holidays\n",
    "pre_holiday_sales = df_train[df_train['SchoolHoliday'] == 1].groupby('Date')['Lag_Sales'].mean().reset_index()\n",
    "\n",
    "# Average sales 7 days after holidays\n",
    "post_holiday_sales = df_train[df_train['SchoolHoliday'] == 1].groupby('Date')['Lead_Sales'].mean().reset_index()\n",
    "\n",
    "# Visualization\n",
    "plt.figure(figsize=(15, 8))\n",
    "\n",
    "# Plot for holiday sales\n",
    "plt.subplot(3, 1, 1)\n",
    "sns.barplot(x='Date', y='Sales', data=holiday_sales, palette='Blues')\n",
    "plt.xticks(rotation=45)\n",
    "plt.title('Average Sales During Holidays')\n",
    "plt.xlabel('Date')\n",
    "plt.ylabel('Average Sales')\n",
    "\n",
    "# Plot for pre-holiday sales\n",
    "plt.subplot(3, 1, 2)\n",
    "sns.barplot(x='Date', y='Lag_Sales', data=pre_holiday_sales, palette='Greens')\n",
    "plt.xticks(rotation=45)\n",
    "plt.title('Average Sales 7 Days Before Holidays')\n",
    "plt.xlabel('Date')\n",
    "plt.ylabel('Average Sales')\n",
    "\n",
    "# Plot for post-holiday sales\n",
    "plt.subplot(3, 1, 3)\n",
    "sns.barplot(x='Date', y='Lead_Sales', data=post_holiday_sales, palette='Reds')\n",
    "plt.xticks(rotation=45)\n",
    "plt.title('Average Sales 7 Days After Holidays')\n",
    "plt.xlabel('Date')\n",
    "plt.ylabel('Average Sales')\n",
    "\n",
    "# Adjust layout to prevent overlap\n",
    "plt.tight_layout()\n",
    "\n",
    "# Show the visualizations\n",
    "plt.show()\n",
    "\n",
    "# Print the results\n",
    "print(holiday_sales)\n",
    "print(pre_holiday_sales)\n",
    "print(post_holiday_sales)\n"
   ]
  },
  {
   "cell_type": "code",
   "execution_count": null,
   "id": "eaf8934f-2a4c-4a11-9606-e23839062892",
   "metadata": {},
   "outputs": [],
   "source": [
    "print('correlation of sales and number of customers')\n",
    "Customers_sales_column = ['Sales','Customers']\n",
    "Sales_customers_cor = df_train[Customers_sales_column].cor()\n",
    "plt.figure(figsize=(10, 8))\n",
    "sns.heatmap(Customers_sales_column, annot=True, cmap='coolwarm', center=0)\n",
    "plt.title('Correlation Matrix for Training Data')\n",
    "plt.show()"
   ]
  },
  {
   "cell_type": "code",
   "execution_count": 8,
   "id": "ceedbfb0-2a64-4c76-ae56-25aa9de47f0f",
   "metadata": {},
   "outputs": [
    {
     "name": "stdout",
     "output_type": "stream",
     "text": [
      "Collecting seaborn\n",
      "  Downloading seaborn-0.13.2-py3-none-any.whl.metadata (5.4 kB)\n",
      "Requirement already satisfied: numpy!=1.24.0,>=1.20 in c:\\users\\user\\appdata\\local\\programs\\python\\python312\\lib\\site-packages (from seaborn) (2.1.1)\n",
      "Requirement already satisfied: pandas>=1.2 in c:\\users\\user\\appdata\\local\\programs\\python\\python312\\lib\\site-packages (from seaborn) (2.2.3)\n",
      "Requirement already satisfied: matplotlib!=3.6.1,>=3.4 in c:\\users\\user\\appdata\\local\\programs\\python\\python312\\lib\\site-packages (from seaborn) (3.9.2)\n",
      "Requirement already satisfied: contourpy>=1.0.1 in c:\\users\\user\\appdata\\local\\programs\\python\\python312\\lib\\site-packages (from matplotlib!=3.6.1,>=3.4->seaborn) (1.3.0)\n",
      "Requirement already satisfied: cycler>=0.10 in c:\\users\\user\\appdata\\local\\programs\\python\\python312\\lib\\site-packages (from matplotlib!=3.6.1,>=3.4->seaborn) (0.12.1)\n",
      "Requirement already satisfied: fonttools>=4.22.0 in c:\\users\\user\\appdata\\local\\programs\\python\\python312\\lib\\site-packages (from matplotlib!=3.6.1,>=3.4->seaborn) (4.53.1)\n",
      "Requirement already satisfied: kiwisolver>=1.3.1 in c:\\users\\user\\appdata\\local\\programs\\python\\python312\\lib\\site-packages (from matplotlib!=3.6.1,>=3.4->seaborn) (1.4.7)\n",
      "Requirement already satisfied: packaging>=20.0 in c:\\users\\user\\appdata\\local\\programs\\python\\python312\\lib\\site-packages (from matplotlib!=3.6.1,>=3.4->seaborn) (24.1)\n",
      "Requirement already satisfied: pillow>=8 in c:\\users\\user\\appdata\\local\\programs\\python\\python312\\lib\\site-packages (from matplotlib!=3.6.1,>=3.4->seaborn) (10.4.0)\n",
      "Requirement already satisfied: pyparsing>=2.3.1 in c:\\users\\user\\appdata\\local\\programs\\python\\python312\\lib\\site-packages (from matplotlib!=3.6.1,>=3.4->seaborn) (3.1.4)\n",
      "Requirement already satisfied: python-dateutil>=2.7 in c:\\users\\user\\appdata\\local\\programs\\python\\python312\\lib\\site-packages (from matplotlib!=3.6.1,>=3.4->seaborn) (2.9.0.post0)\n",
      "Requirement already satisfied: pytz>=2020.1 in c:\\users\\user\\appdata\\local\\programs\\python\\python312\\lib\\site-packages (from pandas>=1.2->seaborn) (2024.2)\n",
      "Requirement already satisfied: tzdata>=2022.7 in c:\\users\\user\\appdata\\local\\programs\\python\\python312\\lib\\site-packages (from pandas>=1.2->seaborn) (2024.1)\n",
      "Requirement already satisfied: six>=1.5 in c:\\users\\user\\appdata\\local\\programs\\python\\python312\\lib\\site-packages (from python-dateutil>=2.7->matplotlib!=3.6.1,>=3.4->seaborn) (1.16.0)\n",
      "Downloading seaborn-0.13.2-py3-none-any.whl (294 kB)\n",
      "Installing collected packages: seaborn\n",
      "Successfully installed seaborn-0.13.2\n",
      "Note: you may need to restart the kernel to use updated packages.\n"
     ]
    }
   ],
   "source": [
    "pip install seaborn"
   ]
  },
  {
   "cell_type": "code",
   "execution_count": 48,
   "id": "ff96755b-211d-4405-b345-5ab08d2eb6d8",
   "metadata": {},
   "outputs": [
    {
     "name": "stdout",
     "output_type": "stream",
     "text": [
      "The cffect of promo on the sales of the store\n",
      "Promo            0             1\n",
      "Store                           \n",
      "1      3198.994845   5152.886111\n",
      "10     3674.235395   6186.769444\n",
      "100    5358.675847   8031.954545\n",
      "1000   4907.923729   8108.339161\n",
      "1001   3102.340206   6759.561111\n",
      "...            ...           ...\n",
      "995    5862.752577  10594.633333\n",
      "996    3671.429553   7934.538889\n",
      "997    3081.616838   6207.869444\n",
      "998    2810.589347   4773.611111\n",
      "999    5152.192440  11568.736111\n",
      "\n",
      "[1115 rows x 2 columns]\n",
      "Promo            0             1  Sales Increase %\n",
      "Store                                             \n",
      "1      3198.994845   5152.886111         61.078287\n",
      "10     3674.235395   6186.769444         68.382501\n",
      "100    5358.675847   8031.954545         49.886927\n",
      "1000   4907.923729   8108.339161         65.209152\n",
      "1001   3102.340206   6759.561111        117.885875\n",
      "...            ...           ...               ...\n",
      "995    5862.752577  10594.633333         80.710907\n",
      "996    3671.429553   7934.538889        116.115787\n",
      "997    3081.616838   6207.869444        101.448453\n",
      "998    2810.589347   4773.611111         69.843777\n",
      "999    5152.192440  11568.736111        124.540062\n",
      "\n",
      "[1115 rows x 3 columns]\n"
     ]
    }
   ],
   "source": [
    "# Group by Store and Promo, and calculate mean sales\n",
    "print('The cffect of promo on the sales of the store')\n",
    "promo_sales = df_train.groupby(['Store', 'Promo'])['Sales'].mean().unstack()\n",
    "\n",
    "# Print the resulting DataFrame to check the column names\n",
    "print(promo_sales)\n",
    "\n",
    "# Calculate the percentage increase in sales due to promotions\n",
    "# Replace '0' and '1' with the actual column names\n",
    "promo_sales['Sales Increase %'] = (promo_sales[promo_sales.columns[1]] - promo_sales[promo_sales.columns[0]]) / promo_sales[promo_sales.columns[0]] * 100\n",
    "\n",
    "# Print the result\n",
    "print(promo_sales)\n"
   ]
  },
  {
   "cell_type": "code",
   "execution_count": 64,
   "id": "958fb17f-b09c-4b73-b0b2-bef63a5abf4c",
   "metadata": {},
   "outputs": [
    {
     "name": "stdout",
     "output_type": "stream",
     "text": [
      "Correlation of Sales and Promo\n"
     ]
    },
    {
     "data": {
      "image/png": "[encoded data removed]",
      "text/plain": [
       "<Figure size 1000x800 with 2 Axes>"
      ]
     },
     "metadata": {},
     "output_type": "display_data"
    }
   ],
   "source": [
    "import pandas as pd\n",
    "import matplotlib.pyplot as plt\n",
    "import seaborn as sns\n",
    "\n",
    "# Assuming df_train is your DataFrame with 'Sales' and 'Promo' columns\n",
    "\n",
    "# Print the correlation of sales and number of customers\n",
    "print('Correlation of Sales and Promo')\n",
    "\n",
    "# Select the relevant columns\n",
    "Promo_sales_column = ['Sales', 'Promo']\n",
    "\n",
    "# Calculate the correlation matrix\n",
    "Sales_Promo_cor = df_train[Promo_sales_column].corr()  # Corrected from cor() to corr()\n",
    "\n",
    "# Set up the heatmap\n",
    "plt.figure(figsize=(10, 8))\n",
    "sns.heatmap(Sales_Promo_cor, annot=True, cmap='coolwarm', center=0)\n",
    "\n",
    "# Title and show the plot\n",
    "plt.title('Correlation Matrix for Sales and Promo')\n",
    "plt.show()\n"
   ]
  },
  {
   "cell_type": "code",
   "execution_count": 28,
   "id": "5b06ab8e-e239-4438-a178-a83e68d1b544",
   "metadata": {},
   "outputs": [
    {
     "name": "stdout",
     "output_type": "stream",
     "text": [
      "Promo            0             1\n",
      "Store                           \n",
      "1      3198.994845   5152.886111\n",
      "10     3674.235395   6186.769444\n",
      "100    5358.675847   8031.954545\n",
      "1000   4907.923729   8108.339161\n",
      "1001   3102.340206   6759.561111\n",
      "...            ...           ...\n",
      "995    5862.752577  10594.633333\n",
      "996    3671.429553   7934.538889\n",
      "997    3081.616838   6207.869444\n",
      "998    2810.589347   4773.611111\n",
      "999    5152.192440  11568.736111\n",
      "\n",
      "[1115 rows x 2 columns]\n"
     ]
    }
   ],
   "source": [
    "store_type_sales = df_train.groupby(['Store', 'Promo'])['Sales'].mean().unstack()\n",
    "print(store_type_sales)\n"
   ]
  },
  {
   "cell_type": "code",
   "execution_count": 54,
   "id": "3f5c9998-0af4-45e7-bcce-8d34585495e6",
   "metadata": {},
   "outputs": [
    {
     "name": "stdout",
     "output_type": "stream",
     "text": [
      "the effect of number of days the store opened in a week on the sales\n",
      "Weekend  Open\n",
      "0        0          0.000000\n",
      "         1       6955.514291\n",
      "Name: Sales, dtype: float64\n"
     ]
    }
   ],
   "source": [
    "print('the effect of number of days the store opened in a week on the sales')\n",
    "df_train['Weekend'] = df_train['DayOfWeek'].apply(lambda x: 1 if x in [6, 7] else 0)\n",
    "weekend_sales = df_train.groupby(['Weekend', 'Open'])['Sales'].mean()\n",
    "print(weekend_sales)\n"
   ]
  },
  {
   "cell_type": "code",
   "execution_count": 20,
   "id": "304dc1c4-4a65-4928-b5c4-6536c22d08b5",
   "metadata": {},
   "outputs": [
    {
     "name": "stdout",
     "output_type": "stream",
     "text": [
      "Series([], Name: Sales, dtype: float64)\n"
     ]
    }
   ],
   "source": [
    "always_open_stores = df_train.groupby('Store')['Open'].sum().reset_index()\n",
    "always_open_stores = always_open_stores[always_open_stores['Open'] == 6]  # Stores open every day\n",
    "weekend_impact = df_train[df_train['Store'].isin(always_open_stores['Store']) & df_train['Weekend']==1]\n",
    "print(weekend_impact.groupby('Store')['Sales'].mean())\n"
   ]
  },
  {
   "cell_type": "code",
   "execution_count": 30,
   "id": "3642c8f6-2fab-4aac-b970-11a319abbb4d",
   "metadata": {},
   "outputs": [
    {
     "name": "stdout",
     "output_type": "stream",
     "text": [
      "Assortment\n",
      "a    5481.026096\n",
      "b    8553.931999\n",
      "c    6058.676567\n",
      "Name: Sales, dtype: float64\n"
     ]
    }
   ],
   "source": [
    "# Merge df_store and df_train on a common key, assuming 'Store' is that key\n",
    "merged_df = df_store.merge(df_train[['Store', 'Sales']], on='Store')\n",
    "\n",
    "# Group by 'Assortment' and calculate the mean sales\n",
    "assortment_sales = merged_df.groupby('Assortment')['Sales'].mean()\n",
    "\n",
    "# Print the resulting Series to check the average sales for each assortment type\n",
    "print(assortment_sales)\n",
    "\n",
    "\n"
   ]
  },
  {
   "cell_type": "code",
   "execution_count": 49,
   "id": "59caebac-9a16-4e9b-8bd7-c1e97f6638da",
   "metadata": {},
   "outputs": [
    {
     "name": "stdout",
     "output_type": "stream",
     "text": [
      "Avarage sales versus compitation distance\n"
     ]
    },
    {
     "name": "stderr",
     "output_type": "stream",
     "text": [
      "2024-09-22 14:13:32,546 - INFO - Using categorical units to plot a list of strings that are all parsable as floats or dates. If these strings should be plotted as numbers, cast to the appropriate data type before plotting.\n",
      "2024-09-22 14:13:32,549 - INFO - Using categorical units to plot a list of strings that are all parsable as floats or dates. If these strings should be plotted as numbers, cast to the appropriate data type before plotting.\n"
     ]
    },
    {
     "data": {
      "image/png": "[encoded data removed]",
      "text/plain": [
       "<Figure size 640x480 with 1 Axes>"
      ]
     },
     "metadata": {},
     "output_type": "display_data"
    }
   ],
   "source": [
    "# Replace 'CompetitionDistance' with the correct column name if needed\n",
    "# Merge the DataFrames\n",
    "print('Avarage sales versus compitation distance')\n",
    "merged_df = df_train.merge(df_store, on='Store')\n",
    "\n",
    "# Group by 'CompetitionDistance' and calculate the mean sales\n",
    "distance_sales = merged_df.groupby('CompetitionDistance')['Sales'].mean()\n",
    "\n",
    "# Create a scatter plot\n",
    "plt.scatter(distance_sales.index, distance_sales.values)\n",
    "plt.xlabel('Competition Distance')\n",
    "plt.ylabel('Sales')\n",
    "plt.title('Average Sales vs. Competition Distance')\n",
    "plt.grid(True)\n",
    "plt.show()\n"
   ]
  },
  {
   "cell_type": "code",
   "execution_count": 39,
   "id": "bc699025-858c-4077-891c-55e08a7909cc",
   "metadata": {},
   "outputs": [
    {
     "name": "stdout",
     "output_type": "stream",
     "text": [
      "Date\n",
      "2013-01-01       0.000000\n",
      "2013-01-02    4938.333333\n",
      "2013-01-03    4904.666667\n",
      "2013-01-04    4840.666667\n",
      "2013-01-05    3613.666667\n",
      "                 ...     \n",
      "2015-07-27    7663.000000\n",
      "2015-07-28    6886.666667\n",
      "2015-07-29    6219.666667\n",
      "2015-07-30    6767.666667\n",
      "2015-07-31    7452.666667\n",
      "Name: Sales, Length: 942, dtype: float64\n"
     ]
    }
   ],
   "source": [
    "# Merge the DataFrames\n",
    "merged_df = df_train.merge(df_store, on='Store')\n",
    "\n",
    "# Filter for stores where 'CompetitionDistance' is NaN\n",
    "new_competitor_stores = merged_df[merged_df['CompetitionDistance'].isna()]\n",
    "\n",
    "# Group by 'Date' and calculate the mean sales\n",
    "before_after_sales = new_competitor_stores.groupby('Date')['Sales'].mean()\n",
    "\n",
    "# Print the result\n",
    "print(before_after_sales)\n"
   ]
  },
  {
   "cell_type": "code",
   "execution_count": 41,
   "id": "4a3d2a23-8b08-42b4-aa39-8e5b38de95f0",
   "metadata": {},
   "outputs": [
    {
     "name": "stderr",
     "output_type": "stream",
     "text": [
      "2024-09-22 13:53:26,408 - INFO - Data loaded successfully.\n",
      "2024-09-22 13:53:26,774 - INFO - DataFrames merged successfully on Store.\n",
      "2024-09-22 13:53:26,824 - INFO - Filtered new competitor stores where CompetitionDistance is NaN.\n",
      "2024-09-22 13:53:26,827 - INFO - Calculated mean sales for new competitor stores by Date.\n",
      "2024-09-22 13:53:26,829 - INFO - Final result:\n"
     ]
    },
    {
     "name": "stdout",
     "output_type": "stream",
     "text": [
      "Date\n",
      "2013-01-01       0.000000\n",
      "2013-01-02    4938.333333\n",
      "2013-01-03    4904.666667\n",
      "2013-01-04    4840.666667\n",
      "2013-01-05    3613.666667\n",
      "                 ...     \n",
      "2015-07-27    7663.000000\n",
      "2015-07-28    6886.666667\n",
      "2015-07-29    6219.666667\n",
      "2015-07-30    6767.666667\n",
      "2015-07-31    7452.666667\n",
      "Name: Sales, Length: 942, dtype: float64\n"
     ]
    }
   ],
   "source": [
    "import logging\n",
    "import pandas as pd\n",
    "\n",
    "# Set up logging\n",
    "logging.basicConfig(level=logging.INFO, format='%(asctime)s - %(levelname)s - %(message)s')\n",
    "logger = logging.getLogger(__name__)\n",
    "\n",
    "# Load data (replace with your actual data loading code)\n",
    "# df_train = pd.read_csv('train_data.csv')\n",
    "# df_store = pd.read_csv('store_data.csv')\n",
    "\n",
    "logger.info('Data loaded successfully.')\n",
    "\n",
    "# Merge the DataFrames\n",
    "try:\n",
    "    merged_df = df_train.merge(df_store, on='Store')\n",
    "    logger.info('DataFrames merged successfully on Store.')\n",
    "except Exception as e:\n",
    "    logger.error(f'Error merging DataFrames: {e}')\n",
    "\n",
    "# Filter for stores where 'CompetitionDistance' is NaN\n",
    "try:\n",
    "    new_competitor_stores = merged_df[merged_df['CompetitionDistance'].isna()]\n",
    "    logger.info('Filtered new competitor stores where CompetitionDistance is NaN.')\n",
    "except KeyError as e:\n",
    "    logger.error(f'KeyError: {e} - Check if the column exists in the merged DataFrame.')\n",
    "\n",
    "# Group by 'Date' and calculate the mean sales\n",
    "try:\n",
    "    before_after_sales = new_competitor_stores.groupby('Date')['Sales'].mean()\n",
    "    logger.info('Calculated mean sales for new competitor stores by Date.')\n",
    "except Exception as e:\n",
    "    logger.error(f'Error calculating mean sales: {e}')\n",
    "\n",
    "# Print the result\n",
    "logger.info('Final result:')\n",
    "print(before_after_sales)\n"
   ]
  },
  {
   "cell_type": "code",
   "execution_count": 55,
   "id": "547b9e8b-e19a-4268-a800-48c8c1d3c18d",
   "metadata": {},
   "outputs": [
    {
     "name": "stdout",
     "output_type": "stream",
     "text": [
      "Store            0\n",
      "DayOfWeek        0\n",
      "Date             0\n",
      "Sales            0\n",
      "Customers        0\n",
      "Open             0\n",
      "Promo            0\n",
      "StateHoliday     0\n",
      "SchoolHoliday    0\n",
      "Lag_Sales        7\n",
      "Lead_Sales       7\n",
      "Weekend          0\n",
      "dtype: int64\n"
     ]
    }
   ],
   "source": [
    "print(df_train.isnull().sum())"
   ]
  },
  {
   "cell_type": "code",
   "execution_count": 57,
   "id": "89268491-c0b8-413b-949f-5e6d1de38ce4",
   "metadata": {},
   "outputs": [
    {
     "name": "stdout",
     "output_type": "stream",
     "text": [
      "Id                0\n",
      "Store             0\n",
      "DayOfWeek         0\n",
      "Date              0\n",
      "Open             11\n",
      "Promo             0\n",
      "StateHoliday      0\n",
      "SchoolHoliday     0\n",
      "dtype: int64\n"
     ]
    }
   ],
   "source": [
    "print(df_test.isnull().sum())"
   ]
  },
  {
   "cell_type": "code",
   "execution_count": null,
   "id": "18f8615c-7ef4-47bc-be25-13f2f772dc13",
   "metadata": {},
   "outputs": [],
   "source": []
  }
 ],
 "metadata": {
  "kernelspec": {
   "display_name": "Python 3 (ipykernel)",
   "language": "python",
   "name": "python3"
  },
  "language_info": {
   "codemirror_mode": {
    "name": "ipython",
    "version": 3
   },
   "file_extension": ".py",
   "mimetype": "text/x-python",
   "name": "python",
   "nbconvert_exporter": "python",
   "pygments_lexer": "ipython3",
   "version": "3.12.6"
  }
 },
 "nbformat": 4,
 "nbformat_minor": 5
}
